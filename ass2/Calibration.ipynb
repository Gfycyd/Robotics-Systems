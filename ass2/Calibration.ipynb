{
  "nbformat": 4,
  "nbformat_minor": 0,
  "metadata": {
    "colab": {
      "name": "Calibration.ipynb",
      "provenance": []
    },
    "kernelspec": {
      "name": "python3",
      "display_name": "Python 3"
    }
  },
  "cells": [
    {
      "cell_type": "markdown",
      "metadata": {
        "id": "i6GIWpLKlFTb",
        "colab_type": "text"
      },
      "source": [
        "## Importing Modules\n",
        "\n"
      ]
    },
    {
      "cell_type": "code",
      "metadata": {
        "id": "W9zvg2lzu21X",
        "colab_type": "code",
        "colab": {}
      },
      "source": [
        "import numpy as np\n",
        "from numpy import array, sin, cos, arctan2, sqrt, pi, asarray, eye, ones, linalg, zeros, transpose, matrix, full,linspace\n",
        "\n",
        "from numpy.random import seed\n",
        "\n",
        "from numpy.linalg import multi_dot\n",
        "from scipy.stats import randint, uniform\n",
        "\n",
        "import matplotlib.pyplot as plt\n",
        "from mpl_toolkits.mplot3d import Axes3D"
      ],
      "execution_count": 0,
      "outputs": []
    },
    {
      "cell_type": "markdown",
      "metadata": {
        "id": "55J13maXrKuJ",
        "colab_type": "text"
      },
      "source": [
        "## Matrices"
      ]
    },
    {
      "cell_type": "code",
      "metadata": {
        "id": "NSfr4wzdrKN7",
        "colab_type": "code",
        "colab": {}
      },
      "source": [
        "def Tz(l):\n",
        "    return array([[1, 0, 0, 0],\n",
        "                    [0, 1, 0, 0],\n",
        "                    [0, 0, 1, l],\n",
        "                    [0, 0, 0, 1]])\n",
        "\n",
        "def Ty(l):\n",
        "    return array([[1, 0, 0, 0],\n",
        "                     [0, 1, 0, l],\n",
        "                     [0, 0, 1, 0],\n",
        "                     [0, 0, 0, 1]])\n",
        "    \n",
        "def Ry(q):\n",
        "    return array([[cos(q), 0, sin(q), 0],\n",
        "                    [0, 1, 0, 0],\n",
        "                    [-sin(q), 0, cos(q), 0],\n",
        "                    [0, 0, 0, 1]])\n",
        "def Rz(q):\n",
        "    return array([[cos(q), -sin(q), 0, 0],\n",
        "                     [sin(q), cos(q), 0, 0],\n",
        "                      [0, 0, 1, 0],\n",
        "                      [0, 0, 0, 1]])\n",
        "def dRz(q):\n",
        "  return array([[-sin(q), -cos(q), 0, 0], [cos(q), -sin(q), 0, 0], [0, 0, 0, 1], [0, 0, 0, 0]])\n",
        "\n",
        "\n",
        "def dTz():\n",
        "  return array([[0, 0, 0, 0], [0, 0, 0, 0], [0, 0, 0, 1], [0, 0, 0, 0]])\n",
        "\n",
        "\n",
        "def dRy():\n",
        "  return array([[-sin(q), 0, cos(q), 0], [0, 0, 0, 0], [-cos(q), 0, -sin(q), 1], [0, 0, 0, 0]])\n",
        "\n",
        "\n",
        "def dTy():\n",
        "  return array([[0, 0, 0, 0], [0, 0, 0, 1], [0, 0, 0, 0], [0, 0, 0, 0]])"
      ],
      "execution_count": 0,
      "outputs": []
    },
    {
      "cell_type": "markdown",
      "metadata": {
        "id": "1iCqUvG8uvV5",
        "colab_type": "text"
      },
      "source": [
        "## Some Usefull functions:"
      ]
    },
    {
      "cell_type": "code",
      "metadata": {
        "id": "zqHZwQz7Vvgc",
        "colab_type": "code",
        "colab": {}
      },
      "source": [
        "# find forward kinematics of the cylindrical robot with stiffness for joints\n",
        "def modeling(Q,L,T):\n",
        "  q1, q2, q3 = Q[0], Q[1], Q[2]\n",
        "  t1, t2, t3 = T[0], T[1], T[2]\n",
        "  L1, L2 = L[0], L[1]\n",
        "\n",
        "  return multi_dot(Rz(-q1), Rz(t1), Tz(L1), Tz(q2), Tz(t2), Ty(L2), Ty(q3), Ty(t3))\n",
        "\n",
        "# find inverse kinematics for the cylindrical robot\n",
        "# as a return we return q1, q2, q3\n",
        "\n",
        "def IK(x,y,z):\n",
        "  q1 = arctan2(x, y) \n",
        "  q2 = z - L1\n",
        "  q3 = sqrt(x ** 2 + y ** 2) - L2\n",
        "  return q1, q2, q3"
      ],
      "execution_count": 0,
      "outputs": []
    },
    {
      "cell_type": "markdown",
      "metadata": {
        "id": "iym4nzpZivkf",
        "colab_type": "text"
      },
      "source": [
        "Jacobian for our robot:"
      ]
    },
    {
      "cell_type": "code",
      "metadata": {
        "id": "WNn69HY3iuvJ",
        "colab_type": "code",
        "colab": {}
      },
      "source": [
        "def jac(Q, L, T): \n",
        "  q1, q2, q3 = Q[0], Q[1], Q[2]\n",
        "  t1, t2, t3 = T[0], T[1], T[2]\n",
        "  L1, L2 = L[0], L[1]\n",
        "\n",
        "  T = multi_dot([Rz(-q1),Rz(t1),Tz(L1),Tz(q2),Tz(t2),Ty(L2),Ty(q3),Ty(t3)])\n",
        "  T_inv = eye(4)\n",
        "  T_inv[:3, :3] = T[:3, :3].T\n",
        "\n",
        "  T1 = multi_dot([Rz(-q1),dRz(t1),Tz(L1),Tz(q2),Tz(t2),Ty(L2),Ty(q3),Ty(t3),T_inv])\n",
        "  T2 = multi_dot([Rz(-q1),Rz(t1),Tz(L1),Tz(q2),dTz(),Ty(L2),Ty(q3),Ty(t3), T_inv])\n",
        "  T3 = multi_dot([Rz(-q1),Rz(t1),Tz(L1),Tz(q2),Tz(t2),Ty(L2),Ty(q3),dTy(), T_inv])\n",
        "\n",
        "  T_ = [T1, T2, T3]\n",
        "  J = np.array(zeros((6, 3)), dtype=np.float64)\n",
        "\n",
        "  for i in range(0, 3):\n",
        "        J[0, i] = T_[i][0, 3]\n",
        "        J[1, i] = T_[i][1, 3]\n",
        "        J[2, i] = T_[i][2, 3]\n",
        "        J[3, i] = (T_[i] * T_inv)[2, 1]\n",
        "        J[4, i] = (T_[i] * T_inv)[0, 2]\n",
        "        J[5, i] = (T_[i] * T_inv)[1, 0]\n",
        "\n",
        "  return linalg.pinv(J).T"
      ],
      "execution_count": 0,
      "outputs": []
    },
    {
      "cell_type": "markdown",
      "metadata": {
        "id": "xIL2fN6sr6IP",
        "colab_type": "text"
      },
      "source": [
        "## Data assumsions:"
      ]
    },
    {
      "cell_type": "code",
      "metadata": {
        "id": "C4QIGAPNr8oA",
        "colab_type": "code",
        "colab": {}
      },
      "source": [
        "L1 = 10\n",
        "L2 = 10\n",
        "\n",
        "q2_max = 7\n",
        "q2_min = 0\n",
        "\n",
        "q3_max = 8\n",
        "q3_min = 0\n",
        "\n",
        "N = 30 #number of experiments\n",
        "\n",
        "\n",
        "K1 = 1/1000000\n",
        "K2 = 1/1000000\n",
        "K3 = 1/5000000\n",
        "\n",
        "K_REAL = array([K1, K2, K3])\n",
        "W = array([200, 200, 200, 200, 200, 200])\n",
        "\n",
        "# set the dimensions clearly\n",
        "K_REAL.resize(3,1)\n",
        "W.resize(6,1)\n",
        "\n",
        "\n",
        "t1, t2, t3 = [0,0,0]\n",
        "\n",
        "T = [t1,t2,t3]\n",
        "L = [L1, L2]\n",
        "\n",
        "\n",
        "\n",
        "# We will need it for matrix K calculations\n",
        "B = None\n",
        "C = None"
      ],
      "execution_count": 0,
      "outputs": []
    },
    {
      "cell_type": "markdown",
      "metadata": {
        "id": "QANDoTVprqZ0",
        "colab_type": "text"
      },
      "source": [
        "## Data for experiments: (in data_for_experiments variable, array type of triples with(x,y,z)"
      ]
    },
    {
      "cell_type": "code",
      "metadata": {
        "id": "Hh0YuSEsrtHR",
        "colab_type": "code",
        "outputId": "5fb1b723-13be-4b07-b920-573276eac868",
        "colab": {
          "base_uri": "https://localhost:8080/",
          "height": 0
        }
      },
      "source": [
        "seed(17)\n",
        "\n",
        "z = uniform.rvs(L1, q2_max, N)\n",
        "len_after_qz = uniform.rvs(L2, q3_max , N)\n",
        "qz = uniform.rvs(0, 2*pi, N)\n",
        "x = cos(qz) * len_after_qz\n",
        "y = sin(qz) * len_after_qz\n",
        "\n",
        "data_for_experiments = asarray([x, y, z], dtype=np.float64)\n",
        "fig = plt.figure()\n",
        "ax = fig.add_subplot(111, projection='3d')\n",
        "ax.scatter(*data_for_experiments)\n",
        "ax.set_xlabel('x')\n",
        "ax.set_ylabel('y')\n",
        "ax.set_zlabel('z')\n",
        "\n",
        "plt.show()"
      ],
      "execution_count": 48,
      "outputs": [
        {
          "output_type": "display_data",
          "data": {
            "image/png": "[encoded data removed]",
            "text/plain": [
              "<Figure size 432x288 with 1 Axes>"
            ]
          },
          "metadata": {
            "tags": []
          }
        }
      ]
    },
    {
      "cell_type": "markdown",
      "metadata": {
        "id": "Fvoex8IcjyeG",
        "colab_type": "text"
      },
      "source": [
        "## Calibration Part"
      ]
    },
    {
      "cell_type": "markdown",
      "metadata": {
        "id": "75PXeUtJosTb",
        "colab_type": "text"
      },
      "source": [
        "### K_Theta:"
      ]
    },
    {
      "cell_type": "markdown",
      "metadata": {
        "id": "_hL-eljTmg5B",
        "colab_type": "text"
      },
      "source": [
        "Matrix Q creation. Q = [q1, q2, q3]"
      ]
    },
    {
      "cell_type": "code",
      "metadata": {
        "id": "DxqTqjyixEP_",
        "colab_type": "code",
        "colab": {}
      },
      "source": [
        "Q = []\n",
        "for x in range(len(data_for_experiments[0])):\n",
        "    z = data_for_experiments[2][x]\n",
        "    y = data_for_experiments[1][x]\n",
        "    x = data_for_experiments[0][x]\n",
        "    q1,q2,q3 = IK(x, y, z)\n",
        "    Q.append([q1,q2,q3])"
      ],
      "execution_count": 0,
      "outputs": []
    },
    {
      "cell_type": "markdown",
      "metadata": {
        "id": "OXuR3HKdmuu7",
        "colab_type": "text"
      },
      "source": [
        "k_theta calculations:"
      ]
    },
    {
      "cell_type": "code",
      "metadata": {
        "id": "H1mEe9J8myX6",
        "colab_type": "code",
        "outputId": "bf1034c1-df34-454f-87c6-4dfaa776cfa1",
        "colab": {
          "base_uri": "https://localhost:8080/",
          "height": 85
        }
      },
      "source": [
        "noise_var = 5 * 10**(-4)\n",
        "\n",
        "for x in range(len(data_for_experiments[0])):\n",
        "    A = []\n",
        "    j = jac(Q[x], L, T)\n",
        "\n",
        "    j1 = j[:,0]\n",
        "    j1.resize(6,1)\n",
        "\n",
        "    j2 = j[:,1]\n",
        "    j2.resize(6,1)\n",
        "\n",
        "    j3 = j[:,2]\n",
        "    j3.resize(6,1)\n",
        "    W.resize(6,1)\n",
        "\n",
        "    j1 = multi_dot([j1,j1.T, W])\n",
        "    j2 = multi_dot([j2,j2.T, W])\n",
        "    j3 = multi_dot([j3,j3.T, W])\n",
        "    A = np.concatenate((j1,j2,j3), axis = 1)\n",
        "\n",
        "    temp = np.array(A)\n",
        "    \n",
        "    if B is None:\n",
        "      B = temp.T@temp\n",
        "    else:\n",
        "      B = B + temp.T@temp\n",
        "    noise = np.random.normal(0, noise_var)\n",
        "\n",
        "    if C is None:\n",
        "      C = temp.T@(temp@K_REAL)\n",
        "    else:\n",
        "      C = C + temp.T@(temp@K_REAL)\n",
        "    \n",
        "\n",
        "k = np.linalg.pinv(B)@ C\n",
        "\n",
        "print(\"K,real parameters:\\n\", (1/K_REAL).T)\n",
        "print(\"K, estimated: \\n\", (1/k).T)"
      ],
      "execution_count": 50,
      "outputs": [
        {
          "output_type": "stream",
          "text": [
            "K,real parameters:\n",
            " [[1000000. 1000000. 5000000.]]\n",
            "K, estimated: \n",
            " [[ 999999.99999597 1000000.         5000000.        ]]\n"
          ],
          "name": "stdout"
        }
      ]
    },
    {
      "cell_type": "markdown",
      "metadata": {
        "id": "ME4GwMhHowlv",
        "colab_type": "text"
      },
      "source": [
        "### Part for Graphs"
      ]
    },
    {
      "cell_type": "code",
      "metadata": {
        "id": "tP1VcJX-iK4S",
        "colab_type": "code",
        "outputId": "686b3e43-b758-4dbc-a788-e62bbd3f14d0",
        "colab": {
          "base_uri": "https://localhost:8080/",
          "height": 248
        }
      },
      "source": [
        "obtained = []\n",
        "calibrated = []\n",
        "\n",
        "z = full([30], L1 + q2_max)\n",
        "angle = linspace(0, 2*pi, 30)\n",
        "r = L2 + q3_max\n",
        "x, y = sin(angle) * r, cos(angle) * r\n",
        "\n",
        "N = 100\n",
        "x = np.linspace(-1, 1, N)\n",
        "y = (1 - x**2)**.5\n",
        "z = np.linspace(0.99999, 1, N)\n",
        "\n",
        "circle = asarray(([x, y, z, zeros(N), zeros(N), zeros(N)]), dtype=np.float64)\n",
        "Q_C = []\n",
        "c_temp = circle[:3]\n",
        "\n",
        "for x in range(circle.shape[1]):\n",
        "\n",
        "    z = c_temp[2][x]\n",
        "    y = c_temp[1][x]\n",
        "    x = c_temp[0][x]\n",
        "    q1,q2,q3 = IK(x, y, z)\n",
        "    Q_C.append([q1,q2,q3])\n",
        "  \n",
        "Q_C = np.array(Q_C)\n",
        "\n",
        "circle = circle.T\n",
        "for x in range(circle.shape[0]):\n",
        "\n",
        "    j = jac(Q_C[x], L, T)\n",
        "\n",
        "    j1 = j[:,0]\n",
        "    j1.resize(6,1)\n",
        "\n",
        "    j2 = j[:,1]\n",
        "    j2.resize(6,1)\n",
        "\n",
        "    j3 = j[:,2]\n",
        "    j3.resize(6,1)\n",
        "\n",
        "    j1 = multi_dot([j1,j1.T, W])\n",
        "    j2 = multi_dot([j2,j2.T, W])\n",
        "    j3 = multi_dot([j3,j3.T, W])\n",
        "    A = np.array(np.concatenate((j1,j2,j3), axis = 1))\n",
        "\n",
        "    dx = A @ K_REAL\n",
        "  \n",
        "    obtained.append((dx.T + circle[x])[0])\n",
        "\n",
        "    new3 = (circle[x]- dx.T)[0]\n",
        "\n",
        "\n",
        "    z = new3[2]\n",
        "    y = new3[1]\n",
        "    xN = new3[0]\n",
        "\n",
        "    q1,q2,q3 = IK(xN, y, z)\n",
        "    tempQ = [q1,q2,q3]\n",
        "\n",
        "    j = jac(tempQ, L, T)\n",
        "\n",
        "    j1 = j[:,0]\n",
        "    j1.resize(6,1)\n",
        "\n",
        "    j2 = j[:,1]\n",
        "    j2.resize(6,1)\n",
        "\n",
        "    j3 = j[:,2]\n",
        "    j3.resize(6,1)\n",
        "\n",
        "    j1 = multi_dot([j1,j1.T, W])\n",
        "    j2 = multi_dot([j2,j2.T, W])\n",
        "    j3 = multi_dot([j3,j3.T, W])\n",
        "\n",
        "    tempA = np.array(np.concatenate((j1,j2,j3), axis = 1))\n",
        "\n",
        "    calibrated.append((tempA@k).T[0] + (circle[x] - dx.T)[0])\n",
        "obtained = np.vstack(obtained).T\n",
        "calibrated = np.vstack(calibrated).T\n",
        "circle = circle.T\n",
        "\n",
        "\n",
        "\n",
        "\n",
        "fig = plt.figure()\n",
        "ax = fig.add_subplot(projection='3d')\n",
        "\n",
        "#the curves for calibrated and actual trajectory is the same\n",
        "ax.plot(*circle[:3], c=\"blue\", label=\"desired\")\n",
        "ax.plot(*obtained[:3], c=\"red\", label=\"obtained, no calibration\")\n",
        "ax.plot(*calibrated[:3], c=\"green\", label=\"calibrated\")\n",
        "\n",
        "ax.legend()\n",
        "plt.show()"
      ],
      "execution_count": 54,
      "outputs": [
        {
          "output_type": "display_data",
          "data": {
            "image/png": "[encoded data removed]",
            "text/plain": [
              "<Figure size 432x288 with 1 Axes>"
            ]
          },
          "metadata": {
            "tags": []
          }
        }
      ]
    }
  ]
}